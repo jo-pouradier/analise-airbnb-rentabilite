{
 "cells": [
  {
   "cell_type": "code",
   "execution_count": 1,
   "metadata": {},
   "outputs": [],
   "source": [
    "from pyspark.sql import SparkSession\n",
    "from pyspark.sql.functions import count,col, when,countDistinct,mean\n",
    "\n",
    "spark = SparkSession.builder.getOrCreate()"
   ]
  },
  {
   "cell_type": "code",
   "execution_count": 13,
   "metadata": {},
   "outputs": [],
   "source": [
    "listings_df = spark.read.option(\"header\", \"true\").option(\"sep\", \",\").csv(\"./work/data/listings.csv\")\n",
    "loyer_df = spark.read.option(\"header\", \"true\").option(\"sep\",\";\").csv(\"./work/data/loyers.csv\")"
   ]
  },
  {
   "cell_type": "code",
   "execution_count": null,
   "metadata": {},
   "outputs": [
    {
     "name": "stdout",
     "output_type": "stream",
     "text": [
      "+--------------------+-----+\n",
      "|       property_type|count|\n",
      "+--------------------+-----+\n",
      "|  Entire rental unit|58124|\n",
      "|Private room in r...| 4582|\n",
      "|        Entire condo| 1921|\n",
      "|         \"\"Kitchen\"\"| 1643|\n",
      "|      \"\"Bed linens\"\"| 1100|\n",
      "+--------------------+-----+\n",
      "only showing top 5 rows\n",
      "\n"
     ]
    }
   ],
   "source": [
    "# count property_type\n",
    "listings_df.groupBy(\"property_type\").agg(count(\"property_type\").alias(\"count\")).sort(\"count\", ascending=False).show(5)"
   ]
  },
  {
   "cell_type": "code",
   "execution_count": 24,
   "metadata": {},
   "outputs": [
    {
     "name": "stdout",
     "output_type": "stream",
     "text": [
      "+---------------+-----+\n",
      "|      room_type|count|\n",
      "+---------------+-----+\n",
      "|Entire home/apt|61737|\n",
      "|   Private room| 6692|\n",
      "|    \"\"Kitchen\"\"| 1553|\n",
      "| \"\"Bed linens\"\"| 1072|\n",
      "|       \"\"Wifi\"\"| 1002|\n",
      "+---------------+-----+\n",
      "only showing top 5 rows\n",
      "\n"
     ]
    }
   ],
   "source": [
    "listings_df.groupBy(\"room_type\").agg(count(\"room_type\").alias(\"count\")).sort(\"count\", ascending=False).show(5)"
   ]
  },
  {
   "cell_type": "code",
   "execution_count": 26,
   "metadata": {},
   "outputs": [],
   "source": [
    "listings_filter_cols_df = listings_df.select(\"id\",\"room_type\",\"price\",\"availability_365\", \"longitude\", \"latitude\", \"property_type\", \"room_type\", \"accommodates\", \"bathrooms\", \"bedrooms\", \"beds\", \"amenities\", \"availability_30\", \"availability_60\", \"availability_90\", \"availability_365\")\n",
    "listings_filter_cols_df = listings_filter_cols_df.filter(col(\"property_type\") == \"Entire rental unit\").filter(col(\"room_type\") == \"Entire home/apt\")\n",
    "# filter na in cols "
   ]
  },
  {
   "cell_type": "code",
   "execution_count": 32,
   "metadata": {},
   "outputs": [
    {
     "name": "stdout",
     "output_type": "stream",
     "text": [
      "Number of rows:  39429\n"
     ]
    }
   ],
   "source": [
    "# parse bathrooms, bedrooms, beds to double or na\n",
    "listings_filter_cols_df = listings_filter_cols_df.withColumn(\"bathrooms\", col(\"bathrooms\").cast(\"double\"))\n",
    "listings_filter_cols_df = listings_filter_cols_df.withColumn(\"bedrooms\", col(\"bedrooms\").cast(\"double\"))\n",
    "listings_filter_cols_df = listings_filter_cols_df.withColumn(\"beds\", col(\"beds\").cast(\"double\"))\n",
    "# filter na in bathroom, bedrooms, beds\n",
    "listings_filter_cols_df = listings_filter_cols_df.filter(col(\"bathrooms\").isNotNull())\n",
    "listings_filter_cols_df = listings_filter_cols_df.filter(col(\"bedrooms\").isNotNull())\n",
    "listings_filter_cols_df = listings_filter_cols_df.filter(col(\"beds\").isNotNull())\n",
    "\n",
    "# number of rows\n",
    "print(\"Number of rows: \", listings_filter_cols_df.count())"
   ]
  },
  {
   "cell_type": "code",
   "execution_count": 36,
   "metadata": {},
   "outputs": [
    {
     "name": "stdout",
     "output_type": "stream",
     "text": [
      "+--------------------+\n",
      "|mean_number_of_rooms|\n",
      "+--------------------+\n",
      "|  3.4614370133657966|\n",
      "+--------------------+\n",
      "\n",
      "+--------------------+\n",
      "|min(number_of_rooms)|\n",
      "+--------------------+\n",
      "|                 1.0|\n",
      "+--------------------+\n",
      "\n",
      "+--------------------+\n",
      "|max(number_of_rooms)|\n",
      "+--------------------+\n",
      "|                34.0|\n",
      "+--------------------+\n",
      "\n"
     ]
    }
   ],
   "source": [
    "# create number of rooms column\n",
    "listings_filter_cols_df = listings_filter_cols_df.withColumn(\"number_of_rooms\", col(\"bedrooms\") + col(\"bathrooms\") + 1) # add 1 for living room\n",
    "# print mean number of rooms and min and max\n",
    "listings_filter_cols_df.agg(mean(\"number_of_rooms\").alias(\"mean_number_of_rooms\")).show()\n",
    "listings_filter_cols_df.agg({\"number_of_rooms\": \"min\"}).show()\n",
    "listings_filter_cols_df.agg({\"number_of_rooms\": \"max\"}).show()"
   ]
  },
  {
   "cell_type": "code",
   "execution_count": 6,
   "metadata": {},
   "outputs": [],
   "source": [
    "loyer_filter_cols_df = loyer_df.select(\"ref\", \"piece\", \"meuble_txt\", \"max\", \"min\", \"ville\", \"geo_point_2d\")"
   ]
  },
  {
   "cell_type": "code",
   "execution_count": 11,
   "metadata": {},
   "outputs": [
    {
     "name": "stdout",
     "output_type": "stream",
     "text": [
      "root\n",
      " |-- id: string (nullable = true)\n",
      " |-- room_type: string (nullable = true)\n",
      " |-- price: string (nullable = true)\n",
      " |-- availability_365: string (nullable = true)\n",
      " |-- longitude: string (nullable = true)\n",
      " |-- latitude: string (nullable = true)\n",
      " |-- property_type: string (nullable = true)\n",
      " |-- property_type: string (nullable = true)\n",
      " |-- room_type: string (nullable = true)\n",
      " |-- accommodates: string (nullable = true)\n",
      " |-- bathrooms: string (nullable = true)\n",
      " |-- bedrooms: string (nullable = true)\n",
      " |-- beds: string (nullable = true)\n",
      " |-- amenities: string (nullable = true)\n",
      " |-- availability_30: string (nullable = true)\n",
      " |-- availability_60: string (nullable = true)\n",
      " |-- availability_90: string (nullable = true)\n",
      " |-- availability_365: string (nullable = true)\n",
      "\n"
     ]
    }
   ],
   "source": []
  },
  {
   "cell_type": "code",
   "execution_count": 15,
   "metadata": {},
   "outputs": [
    {
     "name": "stdout",
     "output_type": "stream",
     "text": [
      "+--------------------+\n",
      "|       property_type|\n",
      "+--------------------+\n",
      "|      \"\"Essentials\"\"|\n",
      "|                 1.0|\n",
      "|     \"\"Smoke alarm\"\"|\n",
      "|   \"\"Portable fans\"\"|\n",
      "|Private room in loft|\n",
      "|            48.83101|\n",
      "|             2.34428|\n",
      "|https://www.airbn...|\n",
      "|         \"\"Heating\"\"|\n",
      "|                   7|\n",
      "| \"\"HDTV with stan...|\n",
      "|  Amazon Prime Video|\n",
      "|Private room in e...|\n",
      "|             2.32929|\n",
      "| \"\"Clothing stora...|\n",
      "|https://a0.muscac...|\n",
      "|https://a0.muscac...|\n",
      "|             2.34318|\n",
      "|             Reuilly|\n",
      "|            48.84696|\n",
      "+--------------------+\n",
      "only showing top 20 rows\n",
      "\n"
     ]
    }
   ],
   "source": []
  }
 ],
 "metadata": {
  "kernelspec": {
   "display_name": "Python 3 (ipykernel)",
   "language": "python",
   "name": "python3"
  },
  "language_info": {
   "codemirror_mode": {
    "name": "ipython",
    "version": 3
   },
   "file_extension": ".py",
   "mimetype": "text/x-python",
   "name": "python",
   "nbconvert_exporter": "python",
   "pygments_lexer": "ipython3",
   "version": "3.11.6"
  }
 },
 "nbformat": 4,
 "nbformat_minor": 2
}
